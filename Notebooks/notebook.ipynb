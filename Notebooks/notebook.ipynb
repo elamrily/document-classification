{
 "cells": [
  {
   "cell_type": "markdown",
   "metadata": {},
   "source": [
    "# Processing train and dev datasets"
   ]
  },
  {
   "cell_type": "code",
   "execution_count": 1,
   "metadata": {},
   "outputs": [
    {
     "name": "stdout",
     "output_type": "stream",
     "text": [
      "----------------- Shapes : ----------------\n",
      "Train : (6129, 4)\n",
      "Dev  : (1000, 4)\n"
     ]
    }
   ],
   "source": [
    "import pandas as pd\n",
    "import matplotlib.pyplot as plt\n",
    "import seaborn as sns\n",
    "from sklearn.model_selection import train_test_split\n",
    "from sklearn.feature_extraction.text import CountVectorizer\n",
    "from sklearn.naive_bayes import MultinomialNB\n",
    "%matplotlib inline\n",
    "\n",
    "# load dataframe from CSV file\n",
    "df_train = pd.read_csv(\"../Data/train2/train_text.csv\", sep=\"\\t\")\n",
    "df_dev = pd.read_csv(\"../Data/dev2/dev_text.csv\", sep=\"\\t\")\n",
    "print(\"----------------- Shapes : ----------------\")\n",
    "print(\"Train : \" + str(df_train.shape))\n",
    "print(\"Dev  : \" + str(df_dev.shape))"
   ]
  },
  {
   "cell_type": "markdown",
   "metadata": {},
   "source": [
    "** Data and visualisations ** "
   ]
  },
  {
   "cell_type": "code",
   "execution_count": 2,
   "metadata": {},
   "outputs": [
    {
     "data": {
      "text/html": [
       "<div>\n",
       "<style>\n",
       "    .dataframe thead tr:only-child th {\n",
       "        text-align: right;\n",
       "    }\n",
       "\n",
       "    .dataframe thead th {\n",
       "        text-align: left;\n",
       "    }\n",
       "\n",
       "    .dataframe tbody tr th {\n",
       "        vertical-align: top;\n",
       "    }\n",
       "</style>\n",
       "<table border=\"1\" class=\"dataframe\">\n",
       "  <thead>\n",
       "    <tr style=\"text-align: right;\">\n",
       "      <th></th>\n",
       "      <th>Filename</th>\n",
       "      <th>Text</th>\n",
       "      <th>Class</th>\n",
       "      <th>Language</th>\n",
       "    </tr>\n",
       "  </thead>\n",
       "  <tbody>\n",
       "    <tr>\n",
       "      <th>0</th>\n",
       "      <td>../Data/train2/txt/AAAWNA.txt</td>\n",
       "      <td>REPUBLIQUE FRANCAISE Nationalité Française Car...</td>\n",
       "      <td>C2</td>\n",
       "      <td>fr</td>\n",
       "    </tr>\n",
       "    <tr>\n",
       "      <th>1</th>\n",
       "      <td>../Data/train2/txt/AAUVHC.txt</td>\n",
       "      <td>17 08 12 15:10 MLTC 00212537680032 p.2 في ليلة...</td>\n",
       "      <td>C3</td>\n",
       "      <td>ar</td>\n",
       "    </tr>\n",
       "    <tr>\n",
       "      <th>2</th>\n",
       "      <td>../Data/train2/txt/ABBABC.txt</td>\n",
       "      <td>Hi sweetie ! just a quick note to say ... HAPP...</td>\n",
       "      <td>C3</td>\n",
       "      <td>en</td>\n",
       "    </tr>\n",
       "    <tr>\n",
       "      <th>3</th>\n",
       "      <td>../Data/train2/txt/ABBABD.txt</td>\n",
       "      <td>BE THE CHANGE YOU WANT TO SEE IN THE WORLD !</td>\n",
       "      <td>C3</td>\n",
       "      <td>en</td>\n",
       "    </tr>\n",
       "    <tr>\n",
       "      <th>4</th>\n",
       "      <td>../Data/train2/txt/ABBABE.txt</td>\n",
       "      <td>scenario 1 Bridgewater House Barlow Street Wor...</td>\n",
       "      <td>C3</td>\n",
       "      <td>en</td>\n",
       "    </tr>\n",
       "    <tr>\n",
       "      <th>5</th>\n",
       "      <td>../Data/train2/txt/ABBABF.txt</td>\n",
       "      <td>remember - Jane got 100 % on the vast test she...</td>\n",
       "      <td>C3</td>\n",
       "      <td>en</td>\n",
       "    </tr>\n",
       "    <tr>\n",
       "      <th>6</th>\n",
       "      <td>../Data/train2/txt/ABBACE.txt</td>\n",
       "      <td>- get map from hostel - get Euros visit eat . ...</td>\n",
       "      <td>C3</td>\n",
       "      <td>en</td>\n",
       "    </tr>\n",
       "    <tr>\n",
       "      <th>7</th>\n",
       "      <td>../Data/train2/txt/ABBADF.txt</td>\n",
       "      <td>Hi Lucie, The postman left your delivery with ...</td>\n",
       "      <td>C3</td>\n",
       "      <td>en</td>\n",
       "    </tr>\n",
       "    <tr>\n",
       "      <th>8</th>\n",
       "      <td>../Data/train2/txt/ABBAGH.txt</td>\n",
       "      <td>To whom it may concern, I am writing to inform...</td>\n",
       "      <td>C3</td>\n",
       "      <td>en</td>\n",
       "    </tr>\n",
       "    <tr>\n",
       "      <th>9</th>\n",
       "      <td>../Data/train2/txt/ABBAJL.txt</td>\n",
       "      <td>Dear Jay, I hope ¤{eveything/everything}¤ is o...</td>\n",
       "      <td>C3</td>\n",
       "      <td>en</td>\n",
       "    </tr>\n",
       "    <tr>\n",
       "      <th>10</th>\n",
       "      <td>../Data/train2/txt/ABBAMN.txt</td>\n",
       "      <td>Hey sexy Happy ¤{Valentines/Valentine's}¤ Day!...</td>\n",
       "      <td>C3</td>\n",
       "      <td>en</td>\n",
       "    </tr>\n",
       "  </tbody>\n",
       "</table>\n",
       "</div>"
      ],
      "text/plain": [
       "                         Filename  \\\n",
       "0   ../Data/train2/txt/AAAWNA.txt   \n",
       "1   ../Data/train2/txt/AAUVHC.txt   \n",
       "2   ../Data/train2/txt/ABBABC.txt   \n",
       "3   ../Data/train2/txt/ABBABD.txt   \n",
       "4   ../Data/train2/txt/ABBABE.txt   \n",
       "5   ../Data/train2/txt/ABBABF.txt   \n",
       "6   ../Data/train2/txt/ABBACE.txt   \n",
       "7   ../Data/train2/txt/ABBADF.txt   \n",
       "8   ../Data/train2/txt/ABBAGH.txt   \n",
       "9   ../Data/train2/txt/ABBAJL.txt   \n",
       "10  ../Data/train2/txt/ABBAMN.txt   \n",
       "\n",
       "                                                 Text Class Language  \n",
       "0   REPUBLIQUE FRANCAISE Nationalité Française Car...    C2       fr  \n",
       "1   17 08 12 15:10 MLTC 00212537680032 p.2 في ليلة...    C3       ar  \n",
       "2   Hi sweetie ! just a quick note to say ... HAPP...    C3       en  \n",
       "3        BE THE CHANGE YOU WANT TO SEE IN THE WORLD !    C3       en  \n",
       "4   scenario 1 Bridgewater House Barlow Street Wor...    C3       en  \n",
       "5   remember - Jane got 100 % on the vast test she...    C3       en  \n",
       "6   - get map from hostel - get Euros visit eat . ...    C3       en  \n",
       "7   Hi Lucie, The postman left your delivery with ...    C3       en  \n",
       "8   To whom it may concern, I am writing to inform...    C3       en  \n",
       "9   Dear Jay, I hope ¤{eveything/everything}¤ is o...    C3       en  \n",
       "10  Hey sexy Happy ¤{Valentines/Valentine's}¤ Day!...    C3       en  "
      ]
     },
     "execution_count": 2,
     "metadata": {},
     "output_type": "execute_result"
    }
   ],
   "source": [
    "# Show the ten first rows\n",
    "df_train.loc[0 : 10,:]"
   ]
  },
  {
   "cell_type": "code",
   "execution_count": 3,
   "metadata": {},
   "outputs": [
    {
     "data": {
      "text/html": [
       "<div>\n",
       "<style>\n",
       "    .dataframe thead tr:only-child th {\n",
       "        text-align: right;\n",
       "    }\n",
       "\n",
       "    .dataframe thead th {\n",
       "        text-align: left;\n",
       "    }\n",
       "\n",
       "    .dataframe tbody tr th {\n",
       "        vertical-align: top;\n",
       "    }\n",
       "</style>\n",
       "<table border=\"1\" class=\"dataframe\">\n",
       "  <thead>\n",
       "    <tr style=\"text-align: right;\">\n",
       "      <th></th>\n",
       "      <th>Filename</th>\n",
       "      <th>Text</th>\n",
       "      <th>Class</th>\n",
       "      <th>Language</th>\n",
       "    </tr>\n",
       "  </thead>\n",
       "  <tbody>\n",
       "    <tr>\n",
       "      <th>0</th>\n",
       "      <td>../Data/dev2/txt/AAAESO.txt</td>\n",
       "      <td>Publications Order Form Telephone (Optional): ...</td>\n",
       "      <td>C2</td>\n",
       "      <td>en</td>\n",
       "    </tr>\n",
       "    <tr>\n",
       "      <th>1</th>\n",
       "      <td>../Data/dev2/txt/AASJEP.txt</td>\n",
       "      <td>Thirty-seven people are on trial in Paris accu...</td>\n",
       "      <td>C2</td>\n",
       "      <td>en</td>\n",
       "    </tr>\n",
       "    <tr>\n",
       "      <th>2</th>\n",
       "      <td>../Data/dev2/txt/ACKDIN.txt</td>\n",
       "      <td>صندوق المعامير الخيري استمارة كفالة يتيم الكاف...</td>\n",
       "      <td>C1</td>\n",
       "      <td>ar</td>\n",
       "    </tr>\n",
       "    <tr>\n",
       "      <th>3</th>\n",
       "      <td>../Data/dev2/txt/ACKPIN.txt</td>\n",
       "      <td>صندوق المعامير الخيري استمارة كفالة يتيم الكاف...</td>\n",
       "      <td>C1</td>\n",
       "      <td>ar</td>\n",
       "    </tr>\n",
       "    <tr>\n",
       "      <th>4</th>\n",
       "      <td>../Data/dev2/txt/ACPDIN.txt</td>\n",
       "      <td>طلب الحصول على عضوية APPLICATION FOR MEMBERSHI...</td>\n",
       "      <td>C1</td>\n",
       "      <td>ar</td>\n",
       "    </tr>\n",
       "    <tr>\n",
       "      <th>5</th>\n",
       "      <td>../Data/dev2/txt/AHCDIN.txt</td>\n",
       "      <td>REGISTRATION FORM FORMULAIRE D'INSCRIPTION Pré...</td>\n",
       "      <td>C1</td>\n",
       "      <td>en</td>\n",
       "    </tr>\n",
       "    <tr>\n",
       "      <th>6</th>\n",
       "      <td>../Data/dev2/txt/AHCKPD.txt</td>\n",
       "      <td>Dossier de demande d'attestation de comparabil...</td>\n",
       "      <td>C1</td>\n",
       "      <td>fr</td>\n",
       "    </tr>\n",
       "    <tr>\n",
       "      <th>7</th>\n",
       "      <td>../Data/dev2/txt/AHCKPI.txt</td>\n",
       "      <td>FORMULAIRE A REMPLIR EN CAS DE RESILIATION DES...</td>\n",
       "      <td>C1</td>\n",
       "      <td>fr</td>\n",
       "    </tr>\n",
       "    <tr>\n",
       "      <th>8</th>\n",
       "      <td>../Data/dev2/txt/AHKPDN.txt</td>\n",
       "      <td>Formulaire d'inscription aux 4e Rencontres du ...</td>\n",
       "      <td>C1</td>\n",
       "      <td>fr</td>\n",
       "    </tr>\n",
       "    <tr>\n",
       "      <th>9</th>\n",
       "      <td>../Data/dev2/txt/AHPDIN.txt</td>\n",
       "      <td>DÉCLARATION de Perte Vol de CERTIFICAT D’IMMAT...</td>\n",
       "      <td>C1</td>\n",
       "      <td>fr</td>\n",
       "    </tr>\n",
       "    <tr>\n",
       "      <th>10</th>\n",
       "      <td>../Data/dev2/txt/AIYRPO.txt</td>\n",
       "      <td>جامعة الملك كلية الدراسات التطبيقية وخدمة المج...</td>\n",
       "      <td>C1</td>\n",
       "      <td>ar</td>\n",
       "    </tr>\n",
       "  </tbody>\n",
       "</table>\n",
       "</div>"
      ],
      "text/plain": [
       "                       Filename  \\\n",
       "0   ../Data/dev2/txt/AAAESO.txt   \n",
       "1   ../Data/dev2/txt/AASJEP.txt   \n",
       "2   ../Data/dev2/txt/ACKDIN.txt   \n",
       "3   ../Data/dev2/txt/ACKPIN.txt   \n",
       "4   ../Data/dev2/txt/ACPDIN.txt   \n",
       "5   ../Data/dev2/txt/AHCDIN.txt   \n",
       "6   ../Data/dev2/txt/AHCKPD.txt   \n",
       "7   ../Data/dev2/txt/AHCKPI.txt   \n",
       "8   ../Data/dev2/txt/AHKPDN.txt   \n",
       "9   ../Data/dev2/txt/AHPDIN.txt   \n",
       "10  ../Data/dev2/txt/AIYRPO.txt   \n",
       "\n",
       "                                                 Text Class Language  \n",
       "0   Publications Order Form Telephone (Optional): ...    C2       en  \n",
       "1   Thirty-seven people are on trial in Paris accu...    C2       en  \n",
       "2   صندوق المعامير الخيري استمارة كفالة يتيم الكاف...    C1       ar  \n",
       "3   صندوق المعامير الخيري استمارة كفالة يتيم الكاف...    C1       ar  \n",
       "4   طلب الحصول على عضوية APPLICATION FOR MEMBERSHI...    C1       ar  \n",
       "5   REGISTRATION FORM FORMULAIRE D'INSCRIPTION Pré...    C1       en  \n",
       "6   Dossier de demande d'attestation de comparabil...    C1       fr  \n",
       "7   FORMULAIRE A REMPLIR EN CAS DE RESILIATION DES...    C1       fr  \n",
       "8   Formulaire d'inscription aux 4e Rencontres du ...    C1       fr  \n",
       "9   DÉCLARATION de Perte Vol de CERTIFICAT D’IMMAT...    C1       fr  \n",
       "10  جامعة الملك كلية الدراسات التطبيقية وخدمة المج...    C1       ar  "
      ]
     },
     "execution_count": 3,
     "metadata": {},
     "output_type": "execute_result"
    }
   ],
   "source": [
    "# Show the ten first rows\n",
    "df_dev.loc[0 : 10,:]"
   ]
  },
  {
   "cell_type": "code",
   "execution_count": 4,
   "metadata": {},
   "outputs": [
    {
     "data": {
      "image/png": "[encoded data removed]",
      "text/plain": [
       "<matplotlib.figure.Figure at 0x13859f98>"
      ]
     },
     "metadata": {},
     "output_type": "display_data"
    }
   ],
   "source": [
    "# Plot the statistics\n",
    "fig, ax = plt.subplots(1, 2, figsize=(12,5))\n",
    "sns.countplot(data=df_train, y='Class', ax = ax[0])\n",
    "ax[0].set(title = \"Statistics of the classes\")\n",
    "sns.countplot(data=df_train, y='Language', ax = ax[1])\n",
    "ax[1].set(title = \"Statistics of the languages\")\n",
    "fig.suptitle(\"Statistics on the training datset\")\n",
    "plt.show()"
   ]
  },
  {
   "cell_type": "code",
   "execution_count": 5,
   "metadata": {},
   "outputs": [
    {
     "data": {
      "image/png": "[encoded data removed]",
      "text/plain": [
       "<matplotlib.figure.Figure at 0x158f6198>"
      ]
     },
     "metadata": {},
     "output_type": "display_data"
    }
   ],
   "source": [
    "# Plot the statistics\n",
    "fig, ax = plt.subplots(1, 2, figsize=(12,5))\n",
    "sns.countplot(data=df_dev, y='Class', ax = ax[0])\n",
    "ax[0].set(title = \"Statistics of the classes\")\n",
    "sns.countplot(data=df_dev, y='Language', ax = ax[1])\n",
    "ax[1].set(title = \"Statistics of the languages\")\n",
    "fig.suptitle(\"Statistics of the validation datset\")\n",
    "plt.show()"
   ]
  },
  {
   "cell_type": "markdown",
   "metadata": {},
   "source": [
    "** Bag-of-words ** <br>\n",
    "Get data ready.."
   ]
  },
  {
   "cell_type": "code",
   "execution_count": 6,
   "metadata": {},
   "outputs": [
    {
     "name": "stdout",
     "output_type": "stream",
     "text": [
      "the size of the test set is : 20.00 %\n"
     ]
    }
   ],
   "source": [
    "# Split the dataset\n",
    "X_train, X_test, y_train, y_test = train_test_split(df_train[\"Text\"], df_train[\"Class\"],\\\n",
    "                                                    test_size=0.2, random_state = 1)\n",
    "print(\"the size of the test set is : %.2f \" %(X_test.shape[0]/(X_train.shape[0]+X_test.shape[0])*100) \\\n",
    "     + \"%\")\n",
    "# Split the train set to train and validate sets \n",
    "X_train, X_val, y_train, y_val = train_test_split(X_train, y_train, test_size=0.25, random_state = 1)"
   ]
  },
  {
   "cell_type": "code",
   "execution_count": 7,
   "metadata": {},
   "outputs": [
    {
     "data": {
      "text/plain": [
       "((1226,), (1226,))"
      ]
     },
     "execution_count": 7,
     "metadata": {},
     "output_type": "execute_result"
    }
   ],
   "source": [
    "y_val.shape , X_test.shape"
   ]
  },
  {
   "cell_type": "markdown",
   "metadata": {},
   "source": [
    "perform a Naive Bayes Classifier :"
   ]
  },
  {
   "cell_type": "code",
   "execution_count": 8,
   "metadata": {
    "collapsed": true
   },
   "outputs": [],
   "source": [
    "# Create document vectors\n",
    "vectorizer = CountVectorizer(max_features=1000)\n",
    "vectorizer.fit(X_train)\n",
    "X_train_counts = vectorizer.transform(X_train)\n",
    "X_val_counts = vectorizer.transform(X_val)\n",
    "X_test_counts = vectorizer.transform(X_test)"
   ]
  },
  {
   "cell_type": "code",
   "execution_count": 9,
   "metadata": {},
   "outputs": [
    {
     "name": "stdout",
     "output_type": "stream",
     "text": [
      "Accuracy on the validation dataset : 0.65\n",
      "Accuracy on the test dataset : 0.67\n"
     ]
    }
   ],
   "source": [
    "# Train a Naive Bayes classifier\n",
    "clf = MultinomialNB().fit(X_train_counts, y_train)\n",
    "print(\"Accuracy on the validation dataset : \"+ str(round(clf.score(X_val_counts, y_val), 2)))\n",
    "print(\"Accuracy on the test dataset : \" + str(round(clf.score(X_test_counts, y_test), 2)))"
   ]
  },
  {
   "cell_type": "markdown",
   "metadata": {},
   "source": [
    "Train the classifier on the all train dataset :"
   ]
  },
  {
   "cell_type": "code",
   "execution_count": 10,
   "metadata": {},
   "outputs": [
    {
     "name": "stdout",
     "output_type": "stream",
     "text": [
      "Accuracy on the validation dataset : 0.64\n"
     ]
    }
   ],
   "source": [
    "# Create document vectors\n",
    "vectorizer = CountVectorizer(max_features=1000)\n",
    "vectorizer.fit(df_train[\"Text\"])\n",
    "X_train_counts = vectorizer.transform(df_train[\"Text\"])\n",
    "X_val_counts = vectorizer.transform(df_dev[\"Text\"])\n",
    "# Train a Naive Bayes classifier\n",
    "clf = MultinomialNB().fit(X_train_counts, df_train[\"Class\"])\n",
    "print(\"Accuracy on the validation dataset : \"+ str(round(clf.score(X_val_counts, df_dev[\"Class\"]), 2)))"
   ]
  },
  {
   "cell_type": "code",
   "execution_count": null,
   "metadata": {
    "collapsed": true
   },
   "outputs": [],
   "source": []
  }
 ],
 "metadata": {
  "kernelspec": {
   "display_name": "Python 3",
   "language": "python",
   "name": "python3"
  },
  "language_info": {
   "codemirror_mode": {
    "name": "ipython",
    "version": 3
   },
   "file_extension": ".py",
   "mimetype": "text/x-python",
   "name": "python",
   "nbconvert_exporter": "python",
   "pygments_lexer": "ipython3",
   "version": "3.6.3"
  }
 },
 "nbformat": 4,
 "nbformat_minor": 2
}
